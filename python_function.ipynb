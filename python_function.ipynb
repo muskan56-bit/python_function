{
  "nbformat": 4,
  "nbformat_minor": 0,
  "metadata": {
    "colab": {
      "provenance": []
    },
    "kernelspec": {
      "name": "python3",
      "display_name": "Python 3"
    },
    "language_info": {
      "name": "python"
    }
  },
  "cells": [
    {
      "cell_type": "markdown",
      "source": [
        "\n",
        "# FUNCTION THEORY"
      ],
      "metadata": {
        "id": "TRc3oGZEyder"
      }
    },
    {
      "cell_type": "markdown",
      "source": [
        "q.no.1) What is the difference between a function and a method in Python?"
      ],
      "metadata": {
        "id": "RoxkddsMynaR"
      }
    },
    {
      "cell_type": "markdown",
      "source": [
        "        -> A block of code ,that code done a specific work or used to performa single,related action this code are reuseable and provide better modularity for own application ,that part of code are known as function\n",
        "        these  function are called any where by their name\n",
        "        ex- def sum:\n",
        "                   return a+b\n",
        "        method are same as function but this associat with object or a class , methods are defined within class and they operate the data encapsulation with onject\n",
        "        method are use by object , with the help of dot we call the method name\n",
        "        ex- object.method()  "
      ],
      "metadata": {
        "id": "E1k1PNbozAIF"
      }
    },
    {
      "cell_type": "markdown",
      "source": [
        "q.no.2) Explain the concept of function arguments and parameters in Python."
      ],
      "metadata": {
        "id": "Fla8AYTr1jn7"
      }
    },
    {
      "cell_type": "markdown",
      "source": [
        "        -> arguments - this the actual value are passed in funtion , this value are assigned to corresponding inside the funtion\n",
        "        ex-function_name(ar1,ar2)\n",
        "\n",
        "        parameters- this the placeholder for the value ,they act when the fuction called with actual values\n",
        "        ex- def functionname(par1,par2):\n",
        "            #function body\n",
        "              "
      ],
      "metadata": {
        "id": "1WkO-Hoh1qdD"
      }
    },
    {
      "cell_type": "markdown",
      "source": [
        "q.no.3)What are the different ways to define and call a function in Python?"
      ],
      "metadata": {
        "id": "beO8Drrd4CyX"
      }
    },
    {
      "cell_type": "markdown",
      "source": [
        "        fuction ways for define - \"def\" keyword or \"lambda\" keyword , they both are function but a samll different within both\n",
        "        \"def\" keyword have multipul line of body but \"lambda\" have one line function\n",
        "        ex- def fuction_name\n",
        "        lambda-name=lanbda#body\n",
        "  \n",
        "\n",
        "         calling function-\n",
        "         with the help of arguments , key arguments , mixing positional and key arguments , unpacking iterables as arguments (*) operatoes\n",
        "         these are different ways of calling functions"
      ],
      "metadata": {
        "id": "vKV19eso4rWs"
      }
    },
    {
      "cell_type": "markdown",
      "source": [
        "q.no.4) What is the purpose of the `return` statement in a Python function?"
      ],
      "metadata": {
        "id": "cFm9hbYS-hG2"
      }
    },
    {
      "cell_type": "markdown",
      "source": [
        "        these function are serves a purpose , to send a value back from to the caller these function provide a function's output , return multipul values, provide boolen values also\n",
        "        ex- function_name:\n",
        "              #function bady\n",
        "              return"
      ],
      "metadata": {
        "id": "8JWZP4vZ-qM-"
      }
    },
    {
      "cell_type": "markdown",
      "source": [
        "q.no.5) What are iterators in Python and how do they differ from iterables?"
      ],
      "metadata": {
        "id": "hjtgguk0_eu-"
      }
    },
    {
      "cell_type": "markdown",
      "source": [
        "        iterables are work ing in loop, that you can \"iterate over\",that means you ccan go through its elements one by one if an object is iterable ,it means it can produce an iterator\n",
        "        ex-dict{\"a\":1,\"b\":2}iterates over by keys\n",
        "\n",
        "        iterator it is resomsible for providing next value in a sequence and track of the current position\n",
        "        ex- list_1=[10,20,30] print(next(list_1))\n",
        "        "
      ],
      "metadata": {
        "id": "H-70ce7S_m_U"
      }
    },
    {
      "cell_type": "markdown",
      "source": [
        "q.no.6) Explain the concept of generators in Python and how they are defined."
      ],
      "metadata": {
        "id": "Yqbgp6SABrPa"
      }
    },
    {
      "cell_type": "markdown",
      "source": [
        "        this most powerful and memory efficient way to create iterators They allow you to define an iteration protocol in a concise manner without needing to implement any iterator function or next function this defined with \"yield\" keyword .\n",
        "        ex- def function:\n",
        "                  yield value1\n",
        "                  #code\n",
        "                  yield value2"
      ],
      "metadata": {
        "id": "Rksb7qDUJ5lc"
      }
    },
    {
      "cell_type": "markdown",
      "source": [
        "q.no.7) What are the advantages of using generators over regular functions?"
      ],
      "metadata": {
        "id": "WViOpXk6KpeL"
      }
    },
    {
      "cell_type": "markdown",
      "source": [
        "        ->  the advantages over traditional \"regular\" functions (which typically return a single result or a fully constructed collection). These advantages primarily stem from their lazy evaluation nature and how they manage memory\n",
        "        memory efficiency and handle infinite sequences"
      ],
      "metadata": {
        "id": "PcOT8w23LtWj"
      }
    },
    {
      "cell_type": "markdown",
      "source": [
        "q.no.8) What is a lambda function in Python and when is it typically used?"
      ],
      "metadata": {
        "id": "884MjVHJMKmp"
      }
    },
    {
      "cell_type": "markdown",
      "source": [
        "        -> in python lambda is a unnamed function or inline function unlike regulaer function , lambda are write in single expression , this ofter for short-term use\n",
        "        this imlement by \"lambda\" keyword"
      ],
      "metadata": {
        "id": "OZNP206wMVvZ"
      }
    },
    {
      "cell_type": "markdown",
      "source": [
        "q.no.9)Explain the purpose and usage of the `map()` function in Python."
      ],
      "metadata": {
        "id": "f4VuyGrFTi_2"
      }
    },
    {
      "cell_type": "markdown",
      "source": [
        "        the map() function in python  is a built-in function they allow to apply a function to each iitem of an iterable (like list,tuple) and return an iterator the result after the apply map() function each element change an iterable there are no need for write for loop.\n",
        "\n",
        "        ex-map(function,iterable)"
      ],
      "metadata": {
        "id": "nML-iRsJVsWR"
      }
    },
    {
      "cell_type": "markdown",
      "source": [
        "q.no.10) What is the difference between `map()`, `reduce()`, and `filter()` functions in Python?"
      ],
      "metadata": {
        "id": "DWDI9e_2XBVP"
      }
    },
    {
      "cell_type": "markdown",
      "source": [
        "        -> map() = map function is applied a function to each item in an iterable and returns a new iterator containing the result\n",
        "\n",
        "        reduce() = basecally this is return combine all element into a single resutlt , it apply a function of two argument to the item and from left to right reduce the iterable to a single value\n",
        "\n",
        "\n",
        "\n",
        "        filter() = these function is used for selecting elements from an iterable that satisfy a certain condition and return boolean value , means select a subset of elements from iterable based on condition"
      ],
      "metadata": {
        "id": "-co4L9ECd0Mb"
      }
    },
    {
      "cell_type": "markdown",
      "source": [
        "q.no.11) Using pen & Paper write the internal mechanism for sum operation using  reduce function on this given\n",
        "list:[47,11,42,13]"
      ],
      "metadata": {
        "id": "9xn7Wc24fvnq"
      }
    },
    {
      "cell_type": "markdown",
      "source": [
        "![WhatsApp Image 2025-07-26 at 20.48.47_8593ac6b.jpg](data:image/jpeg;base64,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)"
      ],
      "metadata": {
        "id": "bUc7m_SkX5aD"
      }
    },
    {
      "cell_type": "markdown",
      "source": [
        "# function practical"
      ],
      "metadata": {
        "id": "R8mOWar9MJwM"
      }
    },
    {
      "cell_type": "markdown",
      "source": [
        "q.no.1)  Write a Python function that takes a list of numbers as input and returns the sum of all even numbers in\n",
        "the list.  "
      ],
      "metadata": {
        "id": "vqeXEWVEMWIF"
      }
    },
    {
      "cell_type": "code",
      "source": [
        "def sum_even(num):\n",
        "  sum=0\n",
        "  for i in num:\n",
        "    if i%2==0:\n",
        "      sum+=i\n",
        "  return sum\n",
        "num=[1,2,3,4,5,6,7,8,9,10]\n",
        "result=sum_even(num)\n",
        "print(result)"
      ],
      "metadata": {
        "colab": {
          "base_uri": "https://localhost:8080/"
        },
        "id": "q6goHlU6MbXF",
        "outputId": "3412bfe7-9ba6-4bc6-8b95-1a6306cb0d9d"
      },
      "execution_count": null,
      "outputs": [
        {
          "output_type": "stream",
          "name": "stdout",
          "text": [
            "30\n"
          ]
        }
      ]
    },
    {
      "cell_type": "markdown",
      "source": [
        "q.no.2) Create a Python function that accepts a string and returns the reverse of that string."
      ],
      "metadata": {
        "id": "tKwGo3vcOSBz"
      }
    },
    {
      "cell_type": "code",
      "source": [
        "def reverse_string(string):\n",
        "  return string[::-1]\n",
        "string=\"muskan\"\n",
        "result=reverse_string(string)\n",
        "print(result)"
      ],
      "metadata": {
        "colab": {
          "base_uri": "https://localhost:8080/"
        },
        "id": "hok0oR1hOZDT",
        "outputId": "27554743-0e68-4eca-a62c-9a03d3dd4431"
      },
      "execution_count": null,
      "outputs": [
        {
          "output_type": "stream",
          "name": "stdout",
          "text": [
            "naksum\n"
          ]
        }
      ]
    },
    {
      "cell_type": "markdown",
      "source": [
        "q.no.3)  Implement a Python function that takes a list of integers and returns a new list containing the squares of\n",
        "each number."
      ],
      "metadata": {
        "id": "iqPUFDoUPCY0"
      }
    },
    {
      "cell_type": "code",
      "source": [
        "def sequar_num(num):\n",
        "    sequar_num =[num ** 2  for i in num ]\n",
        "    return sequar_num\n",
        "\n",
        "    num[1,2,3,4,5]\n",
        "    result= sequar_num(num)\n",
        "    print(result)"
      ],
      "metadata": {
        "id": "dSBTjW93R9ZO"
      },
      "execution_count": null,
      "outputs": []
    },
    {
      "cell_type": "markdown",
      "source": [
        "q.no.4) Write a Python function that checks if a given number is prime or not from 1 to 200."
      ],
      "metadata": {
        "id": "bpUo5obvSNI3"
      }
    },
    {
      "cell_type": "code",
      "source": [
        "def is_prime(num):\n",
        "  if num<2:\n",
        "    return False\n",
        "  for i in range(2,int(num**0.5)+1):\n",
        "    if num%i==0:\n",
        "      return False\n",
        "  return True\n",
        "num=17\n",
        "result=is_prime(num)\n",
        "print(result)\n"
      ],
      "metadata": {
        "colab": {
          "base_uri": "https://localhost:8080/"
        },
        "id": "uveX3v89SiLk",
        "outputId": "c8144e70-9e2f-4b8e-b69e-8961b61b1fc6"
      },
      "execution_count": null,
      "outputs": [
        {
          "output_type": "stream",
          "name": "stdout",
          "text": [
            "True\n"
          ]
        }
      ]
    },
    {
      "cell_type": "markdown",
      "source": [
        "q.no.5) Create an iterator class in Python that generates the Fibonacci sequence up to a specified number of\n",
        "terms."
      ],
      "metadata": {
        "id": "IFj7l5qUUiMl"
      }
    },
    {
      "cell_type": "code",
      "source": [
        "class FibonacciIterator:\n",
        "    def __init__(self, limit):\n",
        "        self.limit = limit\n",
        "        self.a = 0\n",
        "        self.b = 1\n",
        "        self.count = 0\n",
        "\n",
        "    def __iter__(self):\n",
        "        return self\n",
        "\n",
        "    def __next__(self):\n",
        "        if self.count < self.limit:\n",
        "            result = self.a\n",
        "            self.a, self.b = self.b, self.a + self.b\n",
        "            self.count += 1\n",
        "            return result\n",
        "        else:\n",
        "            raise StopIteration\n",
        "\n",
        "\n",
        "fib_iterator = FibonacciIterator(10)\n",
        "for num in fib_iterator:\n",
        "    print(num)"
      ],
      "metadata": {
        "colab": {
          "base_uri": "https://localhost:8080/"
        },
        "id": "lLngtkf4VKcc",
        "outputId": "0d3ef670-4a8e-4116-8e85-b5f4f4c1aba9"
      },
      "execution_count": null,
      "outputs": [
        {
          "output_type": "stream",
          "name": "stdout",
          "text": [
            "0\n",
            "1\n",
            "1\n",
            "2\n",
            "3\n",
            "5\n",
            "8\n",
            "13\n",
            "21\n",
            "34\n"
          ]
        }
      ]
    },
    {
      "cell_type": "markdown",
      "source": [
        "q.no.6) Write a generator function in Python that yields the powers of 2 up to a given exponent."
      ],
      "metadata": {
        "id": "JnwZAFMvTEc_"
      }
    },
    {
      "cell_type": "code",
      "source": [
        "def power_of_two(exponent):\n",
        "    for i in range(exponent + 1):\n",
        "        yield 2 ** i\n",
        "exponent = 5\n",
        "power_generator = power_of_two(exponent)\n",
        "for power in power_generator:\n",
        "    print(power)"
      ],
      "metadata": {
        "colab": {
          "base_uri": "https://localhost:8080/"
        },
        "id": "XynFW6xLVl-j",
        "outputId": "e60a90dd-4880-4377-d7fb-29f34f46adc4"
      },
      "execution_count": null,
      "outputs": [
        {
          "output_type": "stream",
          "name": "stdout",
          "text": [
            "1\n",
            "2\n",
            "4\n",
            "8\n",
            "16\n",
            "32\n"
          ]
        }
      ]
    },
    {
      "cell_type": "markdown",
      "source": [
        "q.no.7)mplement a generator function that reads a file line by line and yields each line as a string."
      ],
      "metadata": {
        "id": "66wtMjHzYZ8c"
      }
    },
    {
      "cell_type": "code",
      "source": [
        "def read_file_lines(file_path):\n",
        "    with open(file_path, 'r') as file:\n",
        "        for line in file:\n",
        "            yield line.strip()\n",
        "file_path = 'example.txt'"
      ],
      "metadata": {
        "id": "WR49E0DRYiYA"
      },
      "execution_count": null,
      "outputs": []
    },
    {
      "cell_type": "markdown",
      "source": [
        "q.no.8) Use a lambda function in Python to sort a list of tuples based on the second element of each tuple"
      ],
      "metadata": {
        "id": "EyV7Pxo7ZI80"
      }
    },
    {
      "cell_type": "code",
      "source": [
        "def sort_list_of_tuples(tuples_list):\n",
        "    sorted_list = sorted(tuples_list, key=lambda x: x[1])\n",
        "    return sorted_list\n",
        "tuples_list = [(1, 5), (3, 2), (2, 8), (5, 1)]\n",
        "sorted_tuples = sort_list_of_tuples(tuples_list)\n",
        "print(sorted_tuples)"
      ],
      "metadata": {
        "colab": {
          "base_uri": "https://localhost:8080/"
        },
        "id": "OXeQ23EhZQEb",
        "outputId": "398b4514-259f-490b-aa49-66d338ca7422"
      },
      "execution_count": null,
      "outputs": [
        {
          "output_type": "stream",
          "name": "stdout",
          "text": [
            "[(5, 1), (3, 2), (1, 5), (2, 8)]\n"
          ]
        }
      ]
    },
    {
      "cell_type": "markdown",
      "source": [
        "q.no.9)  Write a Python program that uses `map()` to convert a list of temperatures from Celsius to Fahrenheit."
      ],
      "metadata": {
        "id": "IZ9OyTCMZ97q"
      }
    },
    {
      "cell_type": "code",
      "source": [
        "def celsius_to_fahrenheit(celsius):\n",
        "    return (celsius * 9/5) + 32\n",
        "celsius_temperatures = [0, 10, 20, 30, 40]\n",
        "fahrenheit_temperatures = list(map(celsius_to_fahrenheit, celsius_temperatures))\n",
        "print(fahrenheit_temperatures)\n"
      ],
      "metadata": {
        "colab": {
          "base_uri": "https://localhost:8080/"
        },
        "id": "sSaA8yb3aEAB",
        "outputId": "46cbc366-789b-4c39-9a3e-9a543f55ec01"
      },
      "execution_count": null,
      "outputs": [
        {
          "output_type": "stream",
          "name": "stdout",
          "text": [
            "[32.0, 50.0, 68.0, 86.0, 104.0]\n"
          ]
        }
      ]
    },
    {
      "cell_type": "markdown",
      "source": [
        "q.no.10)  Create a Python program that uses `filter()` to remove all the vowels from a given string."
      ],
      "metadata": {
        "id": "WzIq8gAoabfj"
      }
    },
    {
      "cell_type": "code",
      "source": [
        "def remove_vowels(string):\n",
        "    vowels = 'aeiouAEIOU'\n",
        "    filtered_string = ''.join(filter(lambda char: char not in vowels, string))\n",
        "    return filtered_string\n",
        "string = \"Hello, World!\"\n",
        "result = remove_vowels(string)\n",
        "print(result)\n",
        "\n"
      ],
      "metadata": {
        "colab": {
          "base_uri": "https://localhost:8080/"
        },
        "id": "pInW6492aho2",
        "outputId": "6cf3ff08-9139-4833-fa66-49a30489449a"
      },
      "execution_count": null,
      "outputs": [
        {
          "output_type": "stream",
          "name": "stdout",
          "text": [
            "Hll, Wrld!\n"
          ]
        }
      ]
    },
    {
      "cell_type": "markdown",
      "source": [
        "q.no.11)Write a Python program, which returns a list with 2-tuples. Each tuple consists of the order number and the\n",
        "product of the price per item and the quantity. The product should be increased by 10,- € if the value of the\n",
        "order is smaller than 100,00 €.\n",
        "\n",
        "Write a Python program using lambda and map"
      ],
      "metadata": {
        "id": "URdqFun-a5zy"
      }
    },
    {
      "cell_type": "code",
      "source": [
        "   #orderno.,quantity,price per item\n",
        "\n",
        "my_list=[(34587,4,40.95),(98762,5,56.80),(77226,3,32.95),(88112,3,24.99)]\n",
        "calculate_price=lambda my_list:(my_list[0],my_list[1]*my_list[2])\n",
        "result=list(map(calculate_price,my_list))\n",
        "print(result)"
      ],
      "metadata": {
        "colab": {
          "base_uri": "https://localhost:8080/"
        },
        "id": "8sf1FY1Lc4-8",
        "outputId": "bb1a6bd8-9a6c-4987-8b82-25b8f69bfa10"
      },
      "execution_count": null,
      "outputs": [
        {
          "output_type": "stream",
          "name": "stdout",
          "text": [
            "[(34587, 163.8), (98762, 284.0), (77226, 98.85000000000001), (88112, 74.97)]\n"
          ]
        }
      ]
    }
  ]
}